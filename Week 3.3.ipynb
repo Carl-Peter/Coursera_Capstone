{
 "cells": [
  {
   "cell_type": "markdown",
   "metadata": {},
   "source": [
    "# Import libraries"
   ]
  },
  {
   "cell_type": "code",
   "execution_count": 22,
   "metadata": {},
   "outputs": [],
   "source": [
    "import pandas as pd\n",
    "from bs4 import BeautifulSoup\n",
    "import requests\n",
    "import io\n",
    "import folium"
   ]
  },
  {
   "cell_type": "markdown",
   "metadata": {},
   "source": [
    "# Build the table with postal codes and coordinats (old assignments)"
   ]
  },
  {
   "cell_type": "code",
   "execution_count": 23,
   "metadata": {},
   "outputs": [],
   "source": [
    "# get data from wikipedia\n",
    "get_data = requests.get('https://en.wikipedia.org/wiki/List_of_postal_codes_of_Canada:_M').text\n",
    "soup = BeautifulSoup(get_data,'xml')\n",
    "\n",
    "# Build initial table\n",
    "postal_codes_table = soup.table\n",
    "elements = postal_codes_table('td')\n",
    "\n",
    "Postcode, Borough, Neighbourhood = [], [], []\n",
    "\n",
    "# put the information into lists\n",
    "for n in range (0,len(elements), 3):\n",
    "    Postcode.append(elements[n])\n",
    "    Borough.append(elements[n+1])\n",
    "    Neighbourhood.append(elements[n+2])\n",
    "\n",
    "# remove html tags\n",
    "for n in range (len(Postcode)):\n",
    "    Postcode[n] = Postcode[n].text.strip()\n",
    "    Borough[n] = Borough[n].text.strip()\n",
    "    Neighbourhood[n] = Neighbourhood[n].text.strip()\n",
    "\n",
    "# creating dataframe\n",
    "initial_dataframe = pd.DataFrame([Postcode, Borough, Neighbourhood])\n",
    "initial_dataframe = initial_dataframe.transpose()\n",
    "initial_dataframe.columns = ['Postcode', 'Borough', 'Neighbourhood']\n",
    "\n",
    "# remove rows with 'Not assigned'\n",
    "dataframe = initial_dataframe[initial_dataframe.Borough != 'Not assigned']\n",
    "\n",
    "# Combine more than one neighborhood in one postal code area\n",
    "dataframe = dataframe.groupby(['Postcode', 'Borough'])['Neighbourhood'].apply(', '.join).reset_index()\n",
    "\n",
    "# Not assigned neighborhood have to be the same as the borough\n",
    "for index, row in dataframe.iterrows():\n",
    "    if row['Neighbourhood'] == 'Not assigned': row['Neighbourhood'] = row['Borough']\n",
    "\n",
    "# get coordinates\n",
    "coord = requests.get(\"http://cocl.us/Geospatial_data\").content.decode('utf-8')\n",
    "dataframe_coord = pd.read_csv(io.StringIO(coord))\n",
    "dataframe_coord.head()\n",
    "\n",
    "# rename column to be equal in both dataframes\n",
    "dataframe.rename(columns = {'Postcode': 'Postal Code'}, inplace=True)\n",
    "# merge two dataframes\n",
    "df_coord = pd.merge(dataframe, dataframe_coord, on = 'Postal Code')"
   ]
  },
  {
   "cell_type": "markdown",
   "metadata": {},
   "source": [
    "# New assignment"
   ]
  },
  {
   "cell_type": "markdown",
   "metadata": {},
   "source": [
    "# Statistics of Toronto boroughs and neighbourhoods"
   ]
  },
  {
   "cell_type": "code",
   "execution_count": 24,
   "metadata": {},
   "outputs": [
    {
     "name": "stdout",
     "output_type": "stream",
     "text": [
      "The dataframe has 11 boroughs and 103 neighborhoods.\n"
     ]
    }
   ],
   "source": [
    "print('The dataframe has {} boroughs and {} neighborhoods.'.format(\n",
    "        len(df_coord['Borough'].unique()), df_coord.shape[0]))"
   ]
  },
  {
   "cell_type": "code",
   "execution_count": 25,
   "metadata": {},
   "outputs": [
    {
     "data": {
      "text/plain": [
       "Borough\n",
       "Central Toronto      9\n",
       "Downtown Toronto    18\n",
       "East Toronto         5\n",
       "East York            5\n",
       "Etobicoke           12\n",
       "Mississauga          1\n",
       "North York          24\n",
       "Queen's Park         1\n",
       "Scarborough         17\n",
       "West Toronto         6\n",
       "York                 5\n",
       "Name: Neighbourhood, dtype: int64"
      ]
     },
     "execution_count": 25,
     "metadata": {},
     "output_type": "execute_result"
    }
   ],
   "source": [
    "# Number of neighbourhoods per borough\n",
    "df_coord.groupby('Borough').count()['Neighbourhood']"
   ]
  },
  {
   "cell_type": "markdown",
   "metadata": {},
   "source": [
    "# Concentrate on boroughs that contain the word 'Toronto'"
   ]
  },
  {
   "cell_type": "code",
   "execution_count": 26,
   "metadata": {},
   "outputs": [
    {
     "data": {
      "text/html": [
       "<div>\n",
       "<style scoped>\n",
       "    .dataframe tbody tr th:only-of-type {\n",
       "        vertical-align: middle;\n",
       "    }\n",
       "\n",
       "    .dataframe tbody tr th {\n",
       "        vertical-align: top;\n",
       "    }\n",
       "\n",
       "    .dataframe thead th {\n",
       "        text-align: right;\n",
       "    }\n",
       "</style>\n",
       "<table border=\"1\" class=\"dataframe\">\n",
       "  <thead>\n",
       "    <tr style=\"text-align: right;\">\n",
       "      <th></th>\n",
       "      <th>Postal Code</th>\n",
       "      <th>Borough</th>\n",
       "      <th>Neighbourhood</th>\n",
       "      <th>Latitude</th>\n",
       "      <th>Longitude</th>\n",
       "    </tr>\n",
       "  </thead>\n",
       "  <tbody>\n",
       "    <tr>\n",
       "      <th>37</th>\n",
       "      <td>M4E</td>\n",
       "      <td>East Toronto</td>\n",
       "      <td>The Beaches</td>\n",
       "      <td>43.676357</td>\n",
       "      <td>-79.293031</td>\n",
       "    </tr>\n",
       "    <tr>\n",
       "      <th>41</th>\n",
       "      <td>M4K</td>\n",
       "      <td>East Toronto</td>\n",
       "      <td>The Danforth West, Riverdale</td>\n",
       "      <td>43.679557</td>\n",
       "      <td>-79.352188</td>\n",
       "    </tr>\n",
       "    <tr>\n",
       "      <th>42</th>\n",
       "      <td>M4L</td>\n",
       "      <td>East Toronto</td>\n",
       "      <td>The Beaches West, India Bazaar</td>\n",
       "      <td>43.668999</td>\n",
       "      <td>-79.315572</td>\n",
       "    </tr>\n",
       "    <tr>\n",
       "      <th>43</th>\n",
       "      <td>M4M</td>\n",
       "      <td>East Toronto</td>\n",
       "      <td>Studio District</td>\n",
       "      <td>43.659526</td>\n",
       "      <td>-79.340923</td>\n",
       "    </tr>\n",
       "    <tr>\n",
       "      <th>44</th>\n",
       "      <td>M4N</td>\n",
       "      <td>Central Toronto</td>\n",
       "      <td>Lawrence Park</td>\n",
       "      <td>43.728020</td>\n",
       "      <td>-79.388790</td>\n",
       "    </tr>\n",
       "  </tbody>\n",
       "</table>\n",
       "</div>"
      ],
      "text/plain": [
       "   Postal Code          Borough                   Neighbourhood   Latitude  \\\n",
       "37         M4E     East Toronto                     The Beaches  43.676357   \n",
       "41         M4K     East Toronto    The Danforth West, Riverdale  43.679557   \n",
       "42         M4L     East Toronto  The Beaches West, India Bazaar  43.668999   \n",
       "43         M4M     East Toronto                 Studio District  43.659526   \n",
       "44         M4N  Central Toronto                   Lawrence Park  43.728020   \n",
       "\n",
       "    Longitude  \n",
       "37 -79.293031  \n",
       "41 -79.352188  \n",
       "42 -79.315572  \n",
       "43 -79.340923  \n",
       "44 -79.388790  "
      ]
     },
     "execution_count": 26,
     "metadata": {},
     "output_type": "execute_result"
    }
   ],
   "source": [
    "df_coord_toronto = df_coord[df_coord['Borough'].str.contains('Toronto')]\n",
    "df_coord_toronto.head()"
   ]
  },
  {
   "cell_type": "markdown",
   "metadata": {},
   "source": [
    "# Statistics on selection (boroughs that contain the word 'Toronto')"
   ]
  },
  {
   "cell_type": "code",
   "execution_count": 27,
   "metadata": {},
   "outputs": [
    {
     "name": "stdout",
     "output_type": "stream",
     "text": [
      "The new dataframe has 4 boroughs and 38 neighborhoods.\n"
     ]
    }
   ],
   "source": [
    "print('The new dataframe has {} boroughs and {} neighborhoods.'.format(\n",
    "        len(df_coord_toronto['Borough'].unique()), df_coord_toronto.shape[0]))"
   ]
  },
  {
   "cell_type": "code",
   "execution_count": 28,
   "metadata": {},
   "outputs": [
    {
     "data": {
      "text/plain": [
       "Borough\n",
       "Central Toronto      9\n",
       "Downtown Toronto    18\n",
       "East Toronto         5\n",
       "West Toronto         6\n",
       "Name: Neighbourhood, dtype: int64"
      ]
     },
     "execution_count": 28,
     "metadata": {},
     "output_type": "execute_result"
    }
   ],
   "source": [
    "# Number of neighbourhoods per borough\n",
    "df_coord_toronto.groupby('Borough').count()['Neighbourhood']"
   ]
  },
  {
   "cell_type": "markdown",
   "metadata": {},
   "source": [
    "# Define different colours for boroughs"
   ]
  },
  {
   "cell_type": "code",
   "execution_count": 29,
   "metadata": {},
   "outputs": [],
   "source": [
    "# list of boroughs\n",
    "boroughs_list = df_coord_toronto['Borough'].unique().tolist()\n",
    "\n",
    "# define colours\n",
    "boroughs_dict = {}\n",
    "boroughs_dict[boroughs_list[0]] = \"red\"\n",
    "boroughs_dict[boroughs_list[1]] = \"blue\"\n",
    "boroughs_dict[boroughs_list[2]] = \"green\"\n",
    "boroughs_dict[boroughs_list[3]] = \"yellow\""
   ]
  },
  {
   "cell_type": "markdown",
   "metadata": {},
   "source": [
    "# Extract the Toronto coordinates"
   ]
  },
  {
   "cell_type": "code",
   "execution_count": 30,
   "metadata": {},
   "outputs": [
    {
     "name": "stdout",
     "output_type": "stream",
     "text": [
      "The coordinates of Toronto are 43.667262 (lat.) and -79.389883 (long.)\n"
     ]
    }
   ],
   "source": [
    "latitude_toronto = df_coord_toronto['Latitude'].mean()\n",
    "longitude_toronto = df_coord_toronto['Longitude'].mean()\n",
    "print('The coordinates of Toronto are {:2f} (lat.) and {:2f} (long.)'.format(latitude_toronto, longitude_toronto))"
   ]
  },
  {
   "cell_type": "markdown",
   "metadata": {},
   "source": [
    "# Build map of Toronto"
   ]
  },
  {
   "cell_type": "code",
   "execution_count": 31,
   "metadata": {},
   "outputs": [
    {
     "data": {
      "text/html": [
       "<div style=\"width:100%;\"><div style=\"position:relative;width:100%;height:0;padding-bottom:60%;\"><iframe src=\"data:text/html;charset=utf-8;base64,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\" style=\"position:absolute;width:100%;height:100%;left:0;top:0;border:none !important;\" allowfullscreen webkitallowfullscreen mozallowfullscreen></iframe></div></div>"
      ],
      "text/plain": [
       "<folium.folium.Map at 0x7fa384d534a8>"
      ]
     },
     "execution_count": 31,
     "metadata": {},
     "output_type": "execute_result"
    }
   ],
   "source": [
    "map_toronto = folium.Map(location=[latitude_toronto, longitude_toronto], zoom_start=11)\n",
    "\n",
    "# draw markers\n",
    "for latitude, longitude, borough, neighbourhood in zip(df_coord_toronto['Latitude'], df_coord_toronto['Longitude'], df_coord_toronto['Borough'], df_coord_toronto['Neighbourhood']):\n",
    "    label_text = '{}, {}'.format(neighbourhood, borough)\n",
    "    label = folium.Popup(label_text, parse_html=True)\n",
    "    folium.CircleMarker(\n",
    "        [latitude, longitude],\n",
    "        radius=5,\n",
    "        popup=label,\n",
    "        color=boroughs_dict[borough],\n",
    "        fill=True,\n",
    "        fill_color=boroughs_dict[borough],\n",
    "        fill_opacity=0.6).add_to(map_toronto)\n",
    "    \n",
    "map_toronto"
   ]
  }
 ],
 "metadata": {
  "kernelspec": {
   "display_name": "Python 3",
   "language": "python",
   "name": "python3"
  },
  "language_info": {
   "codemirror_mode": {
    "name": "ipython",
    "version": 3
   },
   "file_extension": ".py",
   "mimetype": "text/x-python",
   "name": "python",
   "nbconvert_exporter": "python",
   "pygments_lexer": "ipython3",
   "version": "3.6.8"
  }
 },
 "nbformat": 4,
 "nbformat_minor": 2
}
